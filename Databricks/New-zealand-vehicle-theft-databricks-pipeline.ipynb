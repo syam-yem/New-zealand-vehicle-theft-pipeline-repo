{
 "cells": [
  {
   "cell_type": "code",
   "execution_count": 0,
   "metadata": {
    "application/vnd.databricks.v1+cell": {
     "cellMetadata": {
      "byteLimit": 2048000,
      "rowLimit": 10000
     },
     "inputWidgets": {},
     "nuid": "c5887ba5-5ab3-4035-af11-292408bc520e",
     "showTitle": false,
     "tableResultSettingsMap": {},
     "title": ""
    }
   },
   "outputs": [],
   "source": [
    "dbutils.secrets.listScopes()"
   ]
  },
  {
   "cell_type": "code",
   "execution_count": 0,
   "metadata": {
    "application/vnd.databricks.v1+cell": {
     "cellMetadata": {
      "byteLimit": 2048000,
      "rowLimit": 10000
     },
     "inputWidgets": {},
     "nuid": "873a6f3a-fc40-449b-a51c-e1b626d908bb",
     "showTitle": false,
     "tableResultSettingsMap": {},
     "title": ""
    }
   },
   "outputs": [],
   "source": [
    "service_credential = dbutils.secrets.get(scope=\"Newzealand-scopes01\", key=\"servicecredential\")\n",
    "application_id = dbutils.secrets.get(scope=\"Newzealand-scopes01\",key=\"applicationid\")\n",
    "directory_id = dbutils.secrets.get(scope=\"Newzealand-scopes01\", key=\"directoryid01\")\n",
    "storage_account = dbutils.secrets.get(scope=\"Newzealand-scopes01\", key=\"storageaccount\")\n",
    "\n",
    "##storage_account = \"newzealandstorageaccount\"\n",
    "\n",
    "\n",
    "# Set Spark configs\n",
    "spark.conf.set(f\"fs.azure.account.auth.type.{storage_account}.dfs.core.windows.net\", \"OAuth\")\n",
    "spark.conf.set(f\"fs.azure.account.oauth.provider.type.{storage_account}.dfs.core.windows.net\",\n",
    "               \"org.apache.hadoop.fs.azurebfs.oauth2.ClientCredsTokenProvider\")\n",
    "spark.conf.set(f\"fs.azure.account.oauth2.client.id.{storage_account}.dfs.core.windows.net\", application_id)\n",
    "spark.conf.set(f\"fs.azure.account.oauth2.client.secret.{storage_account}.dfs.core.windows.net\", service_credential)\n",
    "spark.conf.set(f\"fs.azure.account.oauth2.client.endpoint.{storage_account}.dfs.core.windows.net\",\n",
    "               f\"https://login.microsoftonline.com/{directory_id}/oauth2/token\")\n",
    "\n",
    "\n"
   ]
  },
  {
   "cell_type": "code",
   "execution_count": 0,
   "metadata": {
    "application/vnd.databricks.v1+cell": {
     "cellMetadata": {
      "byteLimit": 2048000,
      "rowLimit": 10000
     },
     "inputWidgets": {},
     "nuid": "1356b1ba-4c12-42c6-9e02-1aae050e509d",
     "showTitle": false,
     "tableResultSettingsMap": {},
     "title": ""
    }
   },
   "outputs": [],
   "source": []
  },
  {
   "cell_type": "code",
   "execution_count": 0,
   "metadata": {
    "application/vnd.databricks.v1+cell": {
     "cellMetadata": {
      "byteLimit": 2048000,
      "rowLimit": 10000
     },
     "inputWidgets": {},
     "nuid": "2927f7ce-ceae-4ee8-8198-f00f14c20019",
     "showTitle": false,
     "tableResultSettingsMap": {},
     "title": ""
    }
   },
   "outputs": [],
   "source": [
    "location_df = spark.read.format(\"csv\") \\\n",
    "    .option(\"header\", \"true\") \\\n",
    "        .option('inferschema',True) \\\n",
    "            .load(f\"abfss://bronze@{storage_account}.dfs.core.windows.net/incoming/locations.csv\")\n",
    "\n",
    "location_df.show()"
   ]
  },
  {
   "cell_type": "code",
   "execution_count": 0,
   "metadata": {
    "application/vnd.databricks.v1+cell": {
     "cellMetadata": {
      "byteLimit": 2048000,
      "rowLimit": 10000
     },
     "inputWidgets": {},
     "nuid": "17fc7741-015e-435d-b2d7-e1b7ad8861f8",
     "showTitle": false,
     "tableResultSettingsMap": {},
     "title": ""
    }
   },
   "outputs": [],
   "source": [
    "location_df.printSchema()"
   ]
  },
  {
   "cell_type": "code",
   "execution_count": 0,
   "metadata": {
    "application/vnd.databricks.v1+cell": {
     "cellMetadata": {
      "byteLimit": 2048000,
      "rowLimit": 10000
     },
     "inputWidgets": {},
     "nuid": "351421e9-3b03-4a00-9e16-9537c76f09ee",
     "showTitle": true,
     "tableResultSettingsMap": {},
     "title": "casting the columns of location dataframe"
    }
   },
   "outputs": [],
   "source": [
    "from pyspark.sql.functions import *\n",
    "from pyspark.sql.types import *\n",
    "\n",
    "location_df = location_df.withColumn(\"density\",col(\"density\").cast(DecimalType(10,3))) \\\n",
    "        .withColumn(\"location_id\",col(\"location_id\").cast(\"int\"))\n",
    "\n",
    "location_df = location_df.withColumnRenamed(\"location_id\",\"location id\")\n",
    "\n",
    "\n",
    "location_df.show()"
   ]
  },
  {
   "cell_type": "code",
   "execution_count": 0,
   "metadata": {
    "application/vnd.databricks.v1+cell": {
     "cellMetadata": {
      "byteLimit": 2048000,
      "rowLimit": 10000
     },
     "inputWidgets": {},
     "nuid": "9c49f713-325f-456f-80d1-440269771403",
     "showTitle": false,
     "tableResultSettingsMap": {},
     "title": ""
    }
   },
   "outputs": [],
   "source": [
    "spark.catalog.listTables()"
   ]
  },
  {
   "cell_type": "code",
   "execution_count": 0,
   "metadata": {
    "application/vnd.databricks.v1+cell": {
     "cellMetadata": {
      "byteLimit": 2048000,
      "rowLimit": 10000
     },
     "inputWidgets": {},
     "nuid": "cc67baec-08f2-4272-a462-56a04e371336",
     "showTitle": false,
     "tableResultSettingsMap": {},
     "title": ""
    }
   },
   "outputs": [],
   "source": [
    "\n",
    "make_details_df  = spark.read.format(\"csv\").option(\"header\",True).option('inferschema',True).load(f\"abfss://bronze@{storage_account}.dfs.core.windows.net/incoming/make_details.csv\")\n",
    "display(make_details_df)"
   ]
  },
  {
   "cell_type": "code",
   "execution_count": 0,
   "metadata": {
    "application/vnd.databricks.v1+cell": {
     "cellMetadata": {
      "byteLimit": 2048000,
      "rowLimit": 10000
     },
     "inputWidgets": {},
     "nuid": "e16dad73-b9b1-4ebc-aaec-31883d22abcf",
     "showTitle": false,
     "tableResultSettingsMap": {},
     "title": ""
    }
   },
   "outputs": [],
   "source": [
    "stolen_vehicles_df = spark.read.format(\"csv\").option(\"header\",True).option('inferschema',True).load(f\"abfss://bronze@{storage_account}.dfs.core.windows.net/incoming/stolen_vehicles.csv\")\n",
    "\n",
    "stolen_vehicles_df.show()"
   ]
  },
  {
   "cell_type": "code",
   "execution_count": 0,
   "metadata": {
    "application/vnd.databricks.v1+cell": {
     "cellMetadata": {
      "byteLimit": 2048000,
      "rowLimit": 10000
     },
     "inputWidgets": {},
     "nuid": "cf69da17-cb58-4652-89fd-151eac144fc0",
     "showTitle": false,
     "tableResultSettingsMap": {},
     "title": ""
    }
   },
   "outputs": [],
   "source": [
    "stolen_vehicles_db_data_dictionary_df = spark.read.format(\"csv\").option(\"header\",True).option('inferschema',True).load(f\"abfss://bronze@{storage_account}.dfs.core.windows.net/incoming/stolen_vehicles_db_data_dictionary.csv\")\n",
    "\n",
    "stolen_vehicles_db_data_dictionary_df.display()\n"
   ]
  },
  {
   "cell_type": "code",
   "execution_count": 0,
   "metadata": {
    "application/vnd.databricks.v1+cell": {
     "cellMetadata": {
      "byteLimit": 2048000,
      "rowLimit": 10000
     },
     "inputWidgets": {},
     "nuid": "c0c514f5-9149-495b-baa6-e4f28b8a06c7",
     "showTitle": false,
     "tableResultSettingsMap": {},
     "title": ""
    }
   },
   "outputs": [],
   "source": [
    "listy = [location_df,stolen_vehicles_db_data_dictionary_df,stolen_vehicles_df,make_details_df]"
   ]
  },
  {
   "cell_type": "code",
   "execution_count": 0,
   "metadata": {
    "application/vnd.databricks.v1+cell": {
     "cellMetadata": {
      "byteLimit": 2048000,
      "rowLimit": 10000
     },
     "inputWidgets": {},
     "nuid": "486186f5-f9d2-420f-9dde-c10c55fc2d69",
     "showTitle": false,
     "tableResultSettingsMap": {},
     "title": ""
    }
   },
   "outputs": [],
   "source": [
    "location_df.show(1)"
   ]
  },
  {
   "cell_type": "code",
   "execution_count": 0,
   "metadata": {
    "application/vnd.databricks.v1+cell": {
     "cellMetadata": {
      "byteLimit": 2048000,
      "rowLimit": 10000
     },
     "inputWidgets": {},
     "nuid": "d3ec68c2-8b58-42d2-934d-5995a6f7db4c",
     "showTitle": false,
     "tableResultSettingsMap": {},
     "title": ""
    }
   },
   "outputs": [],
   "source": [
    "stolen_vehicles_db_data_dictionary_df.show()"
   ]
  },
  {
   "cell_type": "code",
   "execution_count": 0,
   "metadata": {
    "application/vnd.databricks.v1+cell": {
     "cellMetadata": {},
     "inputWidgets": {},
     "nuid": "a06a6022-f2c9-4c3e-a6b9-f478b173bbea",
     "showTitle": false,
     "tableResultSettingsMap": {},
     "title": ""
    }
   },
   "outputs": [],
   "source": []
  },
  {
   "cell_type": "code",
   "execution_count": 0,
   "metadata": {
    "application/vnd.databricks.v1+cell": {
     "cellMetadata": {},
     "inputWidgets": {},
     "nuid": "679c5872-3a40-493b-ae4e-09e91a8be3d1",
     "showTitle": false,
     "tableResultSettingsMap": {},
     "title": ""
    }
   },
   "outputs": [],
   "source": []
  },
  {
   "cell_type": "code",
   "execution_count": 0,
   "metadata": {
    "application/vnd.databricks.v1+cell": {
     "cellMetadata": {
      "byteLimit": 2048000,
      "rowLimit": 10000
     },
     "inputWidgets": {},
     "nuid": "e273df6d-030a-4a83-bcd2-d26dc2a05b49",
     "showTitle": false,
     "tableResultSettingsMap": {},
     "title": ""
    }
   },
   "outputs": [],
   "source": [
    "location_df.printSchema()"
   ]
  },
  {
   "cell_type": "code",
   "execution_count": 0,
   "metadata": {
    "application/vnd.databricks.v1+cell": {
     "cellMetadata": {
      "byteLimit": 2048000,
      "rowLimit": 10000
     },
     "inputWidgets": {},
     "nuid": "fe08a0e5-dbfa-4b19-b1dc-82966f2f6d05",
     "showTitle": false,
     "tableResultSettingsMap": {},
     "title": ""
    }
   },
   "outputs": [],
   "source": [
    "listy = [location_df,stolen_vehicles_db_data_dictionary_df,stolen_vehicles_df,make_details_df]\n"
   ]
  },
  {
   "cell_type": "code",
   "execution_count": 0,
   "metadata": {
    "application/vnd.databricks.v1+cell": {
     "cellMetadata": {
      "byteLimit": 2048000,
      "rowLimit": 10000
     },
     "inputWidgets": {},
     "nuid": "e111c398-fd66-4c47-8f8e-718bcf090cae",
     "showTitle": true,
     "tableResultSettingsMap": {},
     "title": "Standardizing the column names with \"_\""
    }
   },
   "outputs": [],
   "source": [
    "for i, df in enumerate(listy):\n",
    "    for col in df.columns:\n",
    "        new_column_name = col.replace(\" \", \"_\")\n",
    "        df = df.withColumnRenamed(col, new_column_name)\n",
    "    listy[i] = df  # Update the list with the modified DataFrame\n",
    "    df.show()"
   ]
  },
  {
   "cell_type": "code",
   "execution_count": 0,
   "metadata": {
    "application/vnd.databricks.v1+cell": {
     "cellMetadata": {},
     "inputWidgets": {},
     "nuid": "3d932d05-ecf2-45ab-b280-aadb34ad5b0d",
     "showTitle": false,
     "tableResultSettingsMap": {},
     "title": ""
    }
   },
   "outputs": [],
   "source": []
  },
  {
   "cell_type": "code",
   "execution_count": 0,
   "metadata": {
    "application/vnd.databricks.v1+cell": {
     "cellMetadata": {
      "byteLimit": 2048000,
      "rowLimit": 10000
     },
     "inputWidgets": {},
     "nuid": "df604e32-cf14-4135-b956-79e300f517bf",
     "showTitle": true,
     "tableResultSettingsMap": {},
     "title": "Write the df to silver Layer"
    }
   },
   "outputs": [],
   "source": [
    "location_df.write.mode(\"append\").parquet(f\"abfss://silver@{storage_account}.dfs.core.windows.net/location\")"
   ]
  },
  {
   "cell_type": "code",
   "execution_count": 0,
   "metadata": {
    "application/vnd.databricks.v1+cell": {
     "cellMetadata": {
      "byteLimit": 2048000,
      "rowLimit": 10000
     },
     "inputWidgets": {},
     "nuid": "ab7a86b2-566b-4227-9c96-3b02f95a11a0",
     "showTitle": false,
     "tableResultSettingsMap": {},
     "title": ""
    }
   },
   "outputs": [],
   "source": [
    "stolen_vehicles_db_data_dictionary_df.write.mode(\"append\").parquet(f\"abfss://silver@{storage_account}.dfs.core.windows.net/stolen_vehicles_db_data_dictionary\")"
   ]
  },
  {
   "cell_type": "code",
   "execution_count": 0,
   "metadata": {
    "application/vnd.databricks.v1+cell": {
     "cellMetadata": {
      "byteLimit": 2048000,
      "rowLimit": 10000
     },
     "inputWidgets": {},
     "nuid": "17a18d57-d594-44e8-be05-1ded08f42e86",
     "showTitle": false,
     "tableResultSettingsMap": {},
     "title": ""
    }
   },
   "outputs": [],
   "source": [
    "stolen_vehicles_df.write.mode(\"append\").parquet(f\"abfss://silver@{storage_account}.dfs.core.windows.net/stolen_vehicles\")\n"
   ]
  },
  {
   "cell_type": "code",
   "execution_count": 0,
   "metadata": {
    "application/vnd.databricks.v1+cell": {
     "cellMetadata": {
      "byteLimit": 2048000,
      "rowLimit": 10000
     },
     "inputWidgets": {},
     "nuid": "f64ae94c-a672-41f6-96ed-a3f1fb92ec6c",
     "showTitle": false,
     "tableResultSettingsMap": {},
     "title": ""
    }
   },
   "outputs": [],
   "source": [
    "make_details_df.write.mode(\"append\").parquet(f\"abfss://silver@{storage_account}.dfs.core.windows.net/make_details\")"
   ]
  },
  {
   "cell_type": "code",
   "execution_count": 0,
   "metadata": {
    "application/vnd.databricks.v1+cell": {
     "cellMetadata": {
      "byteLimit": 2048000,
      "rowLimit": 10000
     },
     "inputWidgets": {},
     "nuid": "d3295d3d-e156-4ee0-8bee-75e1d893eb6a",
     "showTitle": false,
     "tableResultSettingsMap": {},
     "title": ""
    }
   },
   "outputs": [],
   "source": [
    "stolen_vehicles_df.printSchema()"
   ]
  },
  {
   "cell_type": "code",
   "execution_count": 0,
   "metadata": {
    "application/vnd.databricks.v1+cell": {
     "cellMetadata": {
      "byteLimit": 2048000,
      "rowLimit": 10000
     },
     "inputWidgets": {},
     "nuid": "7a61f116-e8c3-47ef-bc09-21c1f6fd139f",
     "showTitle": false,
     "tableResultSettingsMap": {},
     "title": ""
    }
   },
   "outputs": [],
   "source": [
    "from pyspark.sql.functions import sum,when,col\n",
    "\n",
    "\n",
    "null_count_location_df = location_df.select([\n",
    "    sum(\n",
    "        when(\n",
    "            col(column).isNull(),\n",
    "            1\n",
    "            ).otherwise(0)\n",
    "        ).alias(column)\n",
    "    for column in location_df.columns\n",
    "    ])\n",
    "\n",
    "null_count_location_df.show()"
   ]
  },
  {
   "cell_type": "code",
   "execution_count": 0,
   "metadata": {
    "application/vnd.databricks.v1+cell": {
     "cellMetadata": {
      "byteLimit": 2048000,
      "rowLimit": 10000
     },
     "inputWidgets": {},
     "nuid": "d3d608ab-fc65-4501-94f8-f1ef296a3c42",
     "showTitle": false,
     "tableResultSettingsMap": {},
     "title": ""
    }
   },
   "outputs": [],
   "source": [
    "location_df.filter(col(\"population\").isNotNull()).show()"
   ]
  },
  {
   "cell_type": "code",
   "execution_count": 0,
   "metadata": {
    "application/vnd.databricks.v1+cell": {
     "cellMetadata": {
      "byteLimit": 2048000,
      "rowLimit": 10000
     },
     "inputWidgets": {},
     "nuid": "a8aed39f-54fe-4fb8-baea-5d4adee99667",
     "showTitle": true,
     "tableResultSettingsMap": {},
     "title": "check whether any columns are null"
    }
   },
   "outputs": [],
   "source": [
    "from pyspark.sql.functions import sum,when,col\n",
    "\n",
    "\n",
    "null_count_stolen_vehicles_df = stolen_vehicles_df.select([\n",
    "    sum(\n",
    "        when(\n",
    "            col(column).isNull(),\n",
    "            1\n",
    "            ).otherwise(0)\n",
    "        ).alias(column)\n",
    "    for column in stolen_vehicles_df.columns\n",
    "    ])\n",
    "\n",
    "null_count_stolen_vehicles_df.show()\n",
    "\n"
   ]
  },
  {
   "cell_type": "code",
   "execution_count": 0,
   "metadata": {
    "application/vnd.databricks.v1+cell": {
     "cellMetadata": {
      "byteLimit": 2048000,
      "rowLimit": 10000
     },
     "inputWidgets": {},
     "nuid": "6f5e25bf-d287-4fe8-9555-b588a25b20f1",
     "showTitle": false,
     "tableResultSettingsMap": {},
     "title": ""
    }
   },
   "outputs": [],
   "source": [
    "null_stolen_vehicles_dictionary = stolen_vehicles_db_data_dictionary_df.select([\n",
    "    sum(\n",
    "        when(\n",
    "            col(column).isNull(),\n",
    "            1\n",
    "            ).otherwise(0)\n",
    "        ).alias(column)\n",
    "     for column in stolen_vehicles_db_data_dictionary_df.columns\n",
    "     ])\n",
    "\n",
    "null_stolen_vehicles_dictionary.show()"
   ]
  },
  {
   "cell_type": "code",
   "execution_count": 0,
   "metadata": {
    "application/vnd.databricks.v1+cell": {
     "cellMetadata": {
      "byteLimit": 2048000,
      "rowLimit": 10000
     },
     "inputWidgets": {},
     "nuid": "27fbc722-736b-48dc-93d2-d7fb889c70bb",
     "showTitle": false,
     "tableResultSettingsMap": {},
     "title": ""
    }
   },
   "outputs": [],
   "source": [
    "null_count_make_details = make_details_df.select([sum(when(col(column).isNull(),1).otherwise(0)).alias(column) for column in make_details_df.columns])\n",
    "\n",
    "null_count_make_details.show()"
   ]
  },
  {
   "cell_type": "code",
   "execution_count": 0,
   "metadata": {
    "application/vnd.databricks.v1+cell": {
     "cellMetadata": {
      "byteLimit": 2048000,
      "rowLimit": 10000
     },
     "inputWidgets": {},
     "nuid": "1668afba-b4c8-4c8b-8fff-1b6a2c59ca2c",
     "showTitle": false,
     "tableResultSettingsMap": {},
     "title": ""
    }
   },
   "outputs": [],
   "source": [
    "null_count_stolen_vehicles_df.show()\n",
    "null_count_location_df.show()\n",
    "null_count_make_details.show()\n",
    "null_stolen_vehicles_dictionary.show()\n"
   ]
  },
  {
   "cell_type": "code",
   "execution_count": 0,
   "metadata": {
    "application/vnd.databricks.v1+cell": {
     "cellMetadata": {
      "byteLimit": 2048000,
      "rowLimit": 10000
     },
     "inputWidgets": {},
     "nuid": "dd97bf30-40ed-47b4-95ee-14ec808a4c39",
     "showTitle": false,
     "tableResultSettingsMap": {},
     "title": ""
    }
   },
   "outputs": [],
   "source": [
    "stolen_vehicles_df.printSchema()"
   ]
  },
  {
   "cell_type": "code",
   "execution_count": 0,
   "metadata": {
    "application/vnd.databricks.v1+cell": {
     "cellMetadata": {
      "byteLimit": 2048000,
      "rowLimit": 10000
     },
     "inputWidgets": {},
     "nuid": "515c095f-fc16-4583-a409-a70391029a87",
     "showTitle": true,
     "tableResultSettingsMap": {},
     "title": "Null handling"
    }
   },
   "outputs": [],
   "source": [
    "stolen_vehicles_df = stolen_vehicles_df.fillna({\"vehicle_type\":\"unknown\",\"make_id\":\"0\",\"model_year\":\"0\",\"vehicle_desc\":\"unknown\",\"color\":\"unknown\",\"date_stolen\":\"0000-00-00\",\"location_id\":\"0\"})"
   ]
  },
  {
   "cell_type": "code",
   "execution_count": 0,
   "metadata": {
    "application/vnd.databricks.v1+cell": {
     "cellMetadata": {
      "byteLimit": 2048000,
      "rowLimit": 10000
     },
     "inputWidgets": {},
     "nuid": "6561904d-3844-41e8-b89d-417d20157102",
     "showTitle": false,
     "tableResultSettingsMap": {},
     "title": ""
    }
   },
   "outputs": [],
   "source": [
    "location_df.printSchema()"
   ]
  },
  {
   "cell_type": "code",
   "execution_count": 0,
   "metadata": {
    "application/vnd.databricks.v1+cell": {
     "cellMetadata": {
      "byteLimit": 2048000,
      "rowLimit": 10000
     },
     "inputWidgets": {},
     "nuid": "97be1e69-faa3-4d88-b67f-f6a8466fea0e",
     "showTitle": false,
     "tableResultSettingsMap": {},
     "title": ""
    }
   },
   "outputs": [],
   "source": [
    "location_df = location_df.dropDuplicates()\n",
    "stolen_vehicles_db_data_dictionary_df = stolen_vehicles_db_data_dictionary_df.dropDuplicates()\n",
    "stolen_vehicles_df= stolen_vehicles_df.dropDuplicates()\n",
    "make_details_df= make_details_df.dropDuplicates()\n"
   ]
  },
  {
   "cell_type": "code",
   "execution_count": 0,
   "metadata": {
    "application/vnd.databricks.v1+cell": {
     "cellMetadata": {
      "byteLimit": 2048000,
      "rowLimit": 10000
     },
     "inputWidgets": {},
     "nuid": "817564e4-77d5-4c45-934a-058b74efb047",
     "showTitle": false,
     "tableResultSettingsMap": {},
     "title": ""
    }
   },
   "outputs": [],
   "source": [
    "location_df.write.mode(\"append\").parquet(f\"abfss://silver@{storage_account}.dfs.core.windows.net/location\") \n",
    "stolen_vehicles_db_data_dictionary_df.write.mode(\"append\").parquet(f\"abfss://silver@{storage_account}.dfs.core.windows.net/stolen_vehicles_db_data_dictionary\") \n",
    "stolen_vehicles_df.write.mode(\"append\").parquet(f\"abfss://silver@{storage_account}.dfs.core.windows.net/stolen_vehicles\") \n",
    "make_details_df.write.mode(\"append\").parquet(f\"abfss://silver@{storage_account}.dfs.core.windows.net/make_details\") \n"
   ]
  },
  {
   "cell_type": "code",
   "execution_count": 0,
   "metadata": {
    "application/vnd.databricks.v1+cell": {
     "cellMetadata": {
      "byteLimit": 2048000,
      "rowLimit": 10000
     },
     "inputWidgets": {},
     "nuid": "1089b06b-9f3e-4620-a92c-10ed67ab2ea0",
     "showTitle": false,
     "tableResultSettingsMap": {},
     "title": ""
    }
   },
   "outputs": [],
   "source": [
    "location_df.printSchema()"
   ]
  },
  {
   "cell_type": "code",
   "execution_count": 0,
   "metadata": {
    "application/vnd.databricks.v1+cell": {
     "cellMetadata": {
      "byteLimit": 2048000,
      "rowLimit": 10000
     },
     "inputWidgets": {},
     "nuid": "6285b92d-7816-43ec-b12d-dd06e114156c",
     "showTitle": false,
     "tableResultSettingsMap": {},
     "title": ""
    }
   },
   "outputs": [],
   "source": [
    "location_df.createOrReplaceTempView(\"Location01\")\n",
    "stolen_vehicles_db_data_dictionary_df.createOrReplaceTempView(\"StolenVehiclesDBDataDictionary\")\n",
    "stolen_vehicles_df.createOrReplaceTempView(\"StolenVehicles\")\n",
    "make_details_df.createOrReplaceTempView(\"MakeDetails\")\n"
   ]
  },
  {
   "cell_type": "code",
   "execution_count": 0,
   "metadata": {
    "application/vnd.databricks.v1+cell": {
     "cellMetadata": {
      "byteLimit": 2048000,
      "rowLimit": 10000
     },
     "inputWidgets": {},
     "nuid": "96e98465-de1d-4415-9354-177b148edb78",
     "showTitle": false,
     "tableResultSettingsMap": {},
     "title": ""
    }
   },
   "outputs": [],
   "source": [
    "spark.sql(\"\"\"select * from StolenVehiclesDBDataDictionary\"\"\")"
   ]
  },
  {
   "cell_type": "code",
   "execution_count": 0,
   "metadata": {
    "application/vnd.databricks.v1+cell": {
     "cellMetadata": {
      "byteLimit": 2048000,
      "implicitDf": true,
      "rowLimit": 10000
     },
     "inputWidgets": {},
     "nuid": "2612ab03-c067-42dd-84b8-7f687b4c571b",
     "showTitle": true,
     "tableResultSettingsMap": {
      "0": {
       "dataGridStateBlob": "{\"version\":1,\"tableState\":{\"columnPinning\":{\"left\":[\"#row_number#\"],\"right\":[]},\"columnSizing\":{},\"columnVisibility\":{}},\"settings\":{\"columns\":{}},\"syncTimestamp\":1755931522658}",
       "filterBlob": null,
       "queryPlanFiltersBlob": null,
       "tableResultIndex": 0
      }
     },
     "title": "Most stolen vehicle model"
    }
   },
   "outputs": [],
   "source": [
    "%sql\n",
    "select vehicle_type, model_year,count(*) as num_of_most_stolen_model from StolenVehicles\n",
    "group by 1,2\n",
    "order by 3 desc;"
   ]
  },
  {
   "cell_type": "code",
   "execution_count": 0,
   "metadata": {
    "application/vnd.databricks.v1+cell": {
     "cellMetadata": {
      "byteLimit": 2048000,
      "implicitDf": true,
      "rowLimit": 10000
     },
     "inputWidgets": {},
     "nuid": "7054a6d9-48e8-40ff-8920-367c34cd5bf9",
     "showTitle": true,
     "tableResultSettingsMap": {
      "0": {
       "dataGridStateBlob": "{\"version\":1,\"tableState\":{\"columnPinning\":{\"left\":[\"#row_number#\"],\"right\":[]},\"columnSizing\":{},\"columnVisibility\":{}},\"settings\":{\"columns\":{}},\"syncTimestamp\":1755931816991}",
       "filterBlob": null,
       "queryPlanFiltersBlob": null,
       "tableResultIndex": 0
      }
     },
     "title": "Most stolen brand"
    }
   },
   "outputs": [],
   "source": [
    "%sql\n",
    "select vehicle_desc,model_year,count(*) as no_of_most_stolen_brand\n",
    " from StolenVehicles\n",
    " group by 1,2\n",
    " order by 3 desc;\n",
    "\n"
   ]
  }
 ],
 "metadata": {
  "application/vnd.databricks.v1+notebook": {
   "computePreferences": {
    "hardware": {
     "accelerator": null,
     "gpuPoolId": null,
     "memory": null
    }
   },
   "dashboards": [],
   "environmentMetadata": {
    "base_environment": "",
    "environment_version": "2"
   },
   "inputWidgetPreferences": null,
   "language": "python",
   "notebookMetadata": {
    "mostRecentlyExecutedCommandWithImplicitDF": {
     "commandId": 5841115307947729,
     "dataframes": [
      "_sqldf"
     ]
    },
    "pythonIndentUnit": 4
   },
   "notebookName": "New-zealand-vehicle-theft-databricks-pipeline",
   "widgets": {}
  },
  "language_info": {
   "name": "python"
  }
 },
 "nbformat": 4,
 "nbformat_minor": 0
}
